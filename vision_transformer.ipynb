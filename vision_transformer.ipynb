{
  "nbformat": 4,
  "nbformat_minor": 0,
  "metadata": {
    "colab": {
      "provenance": [],
      "gpuType": "T4",
      "authorship_tag": "ABX9TyMaBoSVUtnnOl8XXTBSmYH5",
      "include_colab_link": true
    },
    "kernelspec": {
      "name": "python3",
      "display_name": "Python 3"
    },
    "language_info": {
      "name": "python"
    },
    "accelerator": "GPU"
  },
  "cells": [
    {
      "cell_type": "markdown",
      "metadata": {
        "id": "view-in-github",
        "colab_type": "text"
      },
      "source": [
        "<a href=\"https://colab.research.google.com/github/Nishthamaybeme/Defect-Detection-System/blob/main/vision_transformer.ipynb\" target=\"_parent\"><img src=\"https://colab.research.google.com/assets/colab-badge.svg\" alt=\"Open In Colab\"/></a>"
      ]
    },
    {
      "cell_type": "code",
      "source": [
        " from google.colab import drive\n",
        "drive.mount('/content/drive')\n"
      ],
      "metadata": {
        "id": "zCWH4KMC589E",
        "colab": {
          "base_uri": "https://localhost:8080/"
        },
        "outputId": "591be177-dee6-481c-ca8a-e49a676dca0e"
      },
      "execution_count": null,
      "outputs": [
        {
          "output_type": "stream",
          "name": "stdout",
          "text": [
            "Mounted at /content/drive\n"
          ]
        }
      ]
    },
    {
      "cell_type": "code",
      "source": [
        "import numpy as np\n",
        "import tensorflow as tf\n",
        "from tensorflow.keras.preprocessing.image import ImageDataGenerator\n",
        "from sklearn.utils.class_weight import compute_class_weight\n",
        "from sklearn.utils import resample\n",
        "\n",
        "# Step 1: Set the path to your data\n",
        "train_dir = '/content/drive/MyDrive/crime game/casting_data/casting_data/train'\n",
        "test_dir = '/content/drive/MyDrive/crime game/casting_data/casting_data/test (1)'\n",
        "\n",
        "# Step 2: Define image size and batch size\n",
        "IMG_SIZE = (224, 224)  # Image size for ViT\n",
        "BATCH_SIZE = 32\n",
        "\n",
        "# Step 3: Data Preprocessing without augmentation\n",
        "train_datagen = ImageDataGenerator(\n",
        "    rescale=1.0/255  # Normalize pixel values between 0 and 1\n",
        ")\n",
        "\n",
        "test_datagen = ImageDataGenerator(rescale=1.0/255)  # Only rescaling for test set\n",
        "\n",
        "# Step 4: Create Data Generators for training and testing\n",
        "train_generator = train_datagen.flow_from_directory(\n",
        "    train_dir,  # Path to the training directory\n",
        "    target_size=IMG_SIZE,  # Resize all images to the target size (224x224)\n",
        "    batch_size=BATCH_SIZE,\n",
        "    class_mode='binary',  # Binary classification\n",
        "    shuffle=True  # Shuffle data for better generalization\n",
        ")\n",
        "\n",
        "test_generator = test_datagen.flow_from_directory(\n",
        "    test_dir,  # Path to the testing directory\n",
        "    target_size=IMG_SIZE,  # Resize all images to the target size (224x224)\n",
        "    batch_size=BATCH_SIZE,\n",
        "    class_mode='binary',  # Binary classification\n",
        "    shuffle=False  # Do not shuffle for evaluation\n",
        ")\n",
        "\n",
        "# Step 5: Calculate class weights (before resampling)\n",
        "class_weights = compute_class_weight(\n",
        "    'balanced',\n",
        "    classes=np.unique(train_generator.classes),\n",
        "    y=train_generator.classes\n",
        ")\n",
        "class_weights_dict = {0: class_weights[0], 1: class_weights[1]}\n",
        "print(\"Class Weights:\", class_weights_dict)\n",
        "\n",
        "# Step 6: Oversample the minority class (ok_front)\n",
        "ok_front_images = []\n",
        "def_front_images = []\n",
        "\n",
        "# Split the images into class-wise lists\n",
        "for i, label in enumerate(train_generator.classes):\n",
        "    if label == 1:  # 'ok_front'\n",
        "        ok_front_images.append(train_generator.filepaths[i])\n",
        "    else:  # 'def_front'\n",
        "        def_front_images.append(train_generator.filepaths[i])\n",
        "\n",
        "# Oversample the 'ok_front' images to 1500 (from original count of 709)\n",
        "ok_front_images = resample(ok_front_images, replace=True, n_samples=1500, random_state=42)\n",
        "\n",
        "# Combine the oversampled `ok_front` with the `def_front` images (no change here)\n",
        "all_images = np.array(ok_front_images + def_front_images)\n",
        "\n",
        "# Print out the new distribution after oversampling\n",
        "new_distribution = [len(def_front_images), len(ok_front_images)]\n",
        "print(f\"New class distribution after oversampling: {new_distribution}\")\n"
      ],
      "metadata": {
        "colab": {
          "base_uri": "https://localhost:8080/"
        },
        "id": "zptE03F-9my4",
        "outputId": "8ac41877-5cd1-4c56-e249-4e4060a2a025"
      },
      "execution_count": null,
      "outputs": [
        {
          "output_type": "stream",
          "name": "stdout",
          "text": [
            "Found 4077 images belonging to 2 classes.\n",
            "Found 715 images belonging to 2 classes.\n",
            "Class Weights: {0: 0.6052553444180523, 1: 2.8751763046544427}\n",
            "New class distribution after oversampling: [3368, 1500]\n"
          ]
        }
      ]
    },
    {
      "cell_type": "code",
      "source": [
        "from sklearn.utils.class_weight import compute_class_weight\n",
        "import numpy as np\n",
        "\n",
        "# Manually adjusting class counts based on resampling\n",
        "class_0_count = 3368  # After resampling\n",
        "class_1_count = 1500  # After oversampling\n",
        "\n",
        "# Total number of samples\n",
        "total_samples = class_0_count + class_1_count\n",
        "\n",
        "# Calculate class weights manually\n",
        "weight_0 = total_samples / (2 * class_0_count)\n",
        "weight_1 = total_samples / (2 * class_1_count)\n",
        "\n",
        "# Create a dictionary for class weights\n",
        "class_weight_dict = {0: weight_0, 1: weight_1}\n",
        "\n",
        "# Display the updated class weights\n",
        "print(\"Manually Adjusted Class Weights:\", class_weight_dict)\n"
      ],
      "metadata": {
        "colab": {
          "base_uri": "https://localhost:8080/"
        },
        "id": "N0xt1mDWBuJU",
        "outputId": "9bc001ea-1b86-46ee-9835-510a9cdbe061"
      },
      "execution_count": null,
      "outputs": [
        {
          "output_type": "stream",
          "name": "stdout",
          "text": [
            "Manually Adjusted Class Weights: {0: 0.7226840855106889, 1: 1.6226666666666667}\n"
          ]
        }
      ]
    },
    {
      "cell_type": "code",
      "source": [
        "import os\n",
        "import timm  # Vision Transformer (ViT) models\n",
        "import torch\n",
        "import torch.nn as nn\n",
        "import torchvision.transforms as transforms\n",
        "from torch.utils.data import DataLoader\n",
        "from torchvision import datasets\n",
        "from sklearn.metrics import classification_report, confusion_matrix\n",
        "import matplotlib.pyplot as plt\n",
        "from torch.optim.lr_scheduler import ReduceLROnPlateau\n",
        "\n",
        "# Check if GPU is available\n",
        "device = torch.device(\"cuda\" if torch.cuda.is_available() else \"cpu\")\n",
        "print(f\"Using device: {device}\")\n",
        "\n",
        "# Define data transformations\n",
        "transform = transforms.Compose([\n",
        "    transforms.Resize((224, 224)),  # Resize images for ViT\n",
        "    transforms.ToTensor(),         # Convert images to PyTorch tensors\n",
        "    transforms.Normalize(mean=[0.5, 0.5, 0.5], std=[0.5, 0.5, 0.5])  # Normalize\n",
        "])\n",
        "\n",
        "# Update dataset paths for the balanced dataset\n",
        "train_dataset = datasets.ImageFolder(root=balanced_train_dir, transform=transform)\n",
        "test_dataset = datasets.ImageFolder(root=test_dir, transform=transform)\n",
        "\n",
        "# Create data loaders for balanced dataset\n",
        "train_loader = DataLoader(train_dataset, batch_size=32, shuffle=True, num_workers=2)\n",
        "test_loader = DataLoader(test_dataset, batch_size=32, shuffle=False, num_workers=2)\n",
        "\n",
        "# Print class indices\n",
        "print(f\"Class Indices: {train_dataset.class_to_idx}\")\n",
        "\n",
        "# Load a pre-trained Vision Transformer (ViT) model\n",
        "model = timm.create_model('ViT_large_patch16_224', pretrained=True)\n",
        "num_features = model.head.in_features\n",
        "model.head = nn.Linear(num_features, 2)  # Two output classes (def_front, ok_front)\n",
        "\n",
        "# Add Dropout to reduce overfitting\n",
        "model.dropout = nn.Dropout(p=0.5)  # Dropout layer with 50% probability\n",
        "model = model.to(device)\n",
        "\n",
        "# Define loss function and optimizer\n",
        "criterion = nn.CrossEntropyLoss()\n",
        "\n",
        "# Hyperparameter tuning: Experiment with different learning rates\n",
        "optimizer = torch.optim.Adam(model.parameters(), lr=0.0001)\n",
        "\n",
        "# Learning rate scheduler: Reduce the learning rate when validation loss plateaus\n",
        "# Learning rate scheduler: Reduce the learning rate when validation loss plateaus\n",
        "scheduler = ReduceLROnPlateau(optimizer, mode='min', patience=2, factor=0.5)\n",
        "\n",
        "# Training the model\n",
        "epochs = 10\n",
        "for epoch in range(epochs):\n",
        "    model.train()\n",
        "    running_loss = 0.0\n",
        "    for images, labels in train_loader:\n",
        "        images, labels = images.to(device), labels.to(device)\n",
        "\n",
        "        optimizer.zero_grad()\n",
        "        outputs = model(images)\n",
        "        loss = criterion(outputs, labels)\n",
        "        loss.backward()\n",
        "        optimizer.step()\n",
        "\n",
        "        running_loss += loss.item()\n",
        "\n",
        "    # Step the scheduler after each epoch\n",
        "    scheduler.step(running_loss)\n",
        "\n",
        "    # Print learning rate (using get_last_lr())\n",
        "    current_lr = scheduler.optimizer.param_groups[0]['lr']\n",
        "    print(f\"Epoch {epoch+1}/{epochs}, Loss: {running_loss/len(train_loader):.4f}, Learning Rate: {current_lr:.6f}\")\n",
        "\n",
        "\n",
        "\n",
        "# Evaluate the model\n",
        "model.eval()\n",
        "all_preds = []\n",
        "all_labels = []\n",
        "\n",
        "with torch.no_grad():\n",
        "    for images, labels in test_loader:\n",
        "        images, labels = images.to(device), labels.to(device)\n",
        "        outputs = model(images)\n",
        "        _, preds = torch.max(outputs, 1)\n",
        "        all_preds.extend(preds.cpu().numpy())\n",
        "        all_labels.extend(labels.cpu().numpy())\n",
        "\n",
        "# Classification report\n",
        "print(classification_report(all_labels, all_preds, target_names=train_dataset.classes))\n",
        "\n",
        "# Confusion matrix\n",
        "conf_matrix = confusion_matrix(all_labels, all_preds)\n",
        "plt.figure(figsize=(6, 6))\n",
        "plt.imshow(conf_matrix, cmap='Blues')\n",
        "plt.title(\"Confusion Matrix\")\n",
        "plt.colorbar()\n",
        "plt.xticks(range(2), train_dataset.classes, rotation=45)\n",
        "plt.yticks(range(2), train_dataset.classes)\n",
        "plt.xlabel(\"Predicted\")\n",
        "plt.ylabel(\"Actual\")\n",
        "plt.show()\n"
      ],
      "metadata": {
        "id": "8HeQXSGkw-3C",
        "colab": {
          "base_uri": "https://localhost:8080/",
          "height": 907
        },
        "outputId": "f051bf17-2c8e-401f-ac27-60c59d3abb66"
      },
      "execution_count": null,
      "outputs": [
        {
          "output_type": "stream",
          "name": "stdout",
          "text": [
            "Using device: cuda\n",
            "Class Indices: {'def_front': 0, 'ok_front': 1}\n",
            "Epoch 1/10, Loss: 0.4305, Learning Rate: 0.000100\n",
            "Epoch 2/10, Loss: 0.1036, Learning Rate: 0.000100\n",
            "Epoch 3/10, Loss: 0.0290, Learning Rate: 0.000100\n",
            "Epoch 4/10, Loss: 0.0283, Learning Rate: 0.000100\n",
            "Epoch 5/10, Loss: 0.0778, Learning Rate: 0.000100\n",
            "Epoch 6/10, Loss: 0.0421, Learning Rate: 0.000100\n",
            "Epoch 7/10, Loss: 0.0251, Learning Rate: 0.000100\n",
            "Epoch 8/10, Loss: 0.0763, Learning Rate: 0.000100\n",
            "Epoch 9/10, Loss: 0.0027, Learning Rate: 0.000100\n",
            "Epoch 10/10, Loss: 0.0002, Learning Rate: 0.000100\n",
            "              precision    recall  f1-score   support\n",
            "\n",
            "   def_front       0.77      1.00      0.87       453\n",
            "    ok_front       0.98      0.48      0.65       262\n",
            "\n",
            "    accuracy                           0.81       715\n",
            "   macro avg       0.88      0.74      0.76       715\n",
            "weighted avg       0.85      0.81      0.79       715\n",
            "\n"
          ]
        },
        {
          "output_type": "display_data",
          "data": {
            "text/plain": [
              "<Figure size 600x600 with 2 Axes>"
            ],
            "image/png": "[encoded data removed]"
          },
          "metadata": {}
        }
      ]
    },
    {
      "cell_type": "code",
      "source": [
        "accuracy = (np.array(all_preds) == np.array(all_labels)).mean()\n",
        "print(f\"Overall Accuracy: {accuracy:.4f}\")\n"
      ],
      "metadata": {
        "colab": {
          "base_uri": "https://localhost:8080/"
        },
        "id": "-ZQNUnVwFkVa",
        "outputId": "ea28bb40-a603-4617-8a8a-5b86257208ab"
      },
      "execution_count": null,
      "outputs": [
        {
          "output_type": "stream",
          "name": "stdout",
          "text": [
            "Overall Accuracy: 0.8070\n"
          ]
        }
      ]
    },
    {
      "cell_type": "code",
      "source": [
        "# Save the model\n",
        "torch.save(model.state_dict(), 'model.pth')\n",
        "print(\"Model saved successfully!\")\n"
      ],
      "metadata": {
        "colab": {
          "base_uri": "https://localhost:8080/"
        },
        "id": "vvgIthDU04Im",
        "outputId": "d81312ae-ab48-4958-ed3e-c6a32ea44baa"
      },
      "execution_count": null,
      "outputs": [
        {
          "output_type": "stream",
          "name": "stdout",
          "text": [
            "Model saved successfully!\n"
          ]
        }
      ]
    },
    {
      "cell_type": "code",
      "source": [
        "# Load the model\n",
        "model = timm.create_model('vit_base_patch16_224', pretrained=True)\n",
        "num_features = model.head.in_features\n",
        "model.head = nn.Linear(num_features, 2)  # Two output classes (def_front, ok_front)\n",
        "# Load the model with weights_only=True\n",
        "model.load_state_dict(torch.load('model.pth', weights_only=True))\n",
        "print(\"Model loaded successfully!\")\n"
      ],
      "metadata": {
        "id": "MdXEPh608dtB",
        "colab": {
          "base_uri": "https://localhost:8080/"
        },
        "outputId": "2859634c-865c-4760-dcbf-4efa245b7030"
      },
      "execution_count": null,
      "outputs": [
        {
          "output_type": "stream",
          "name": "stdout",
          "text": [
            "Model loaded successfully!\n"
          ]
        }
      ]
    },
    {
      "cell_type": "code",
      "source": [
        "# Function to predict an image\n",
        "def predict_image(image_path, model):\n",
        "    # Open the image file\n",
        "    image = Image.open(image_path)\n",
        "    # Apply the transformations\n",
        "    image = transform(image).unsqueeze(0)  # Add batch dimension (unsqueeze)\n",
        "\n",
        "    # Send the image and model to the appropriate device\n",
        "    image = image.to(device)\n",
        "    model = model.to(device)\n",
        "\n",
        "    # Set the model to evaluation mode\n",
        "    model.eval()\n",
        "\n",
        "    with torch.no_grad():\n",
        "        # Get model predictions\n",
        "        outputs = model(image)\n",
        "        _, predicted_class = torch.max(outputs, 1)\n",
        "\n",
        "        # Map class indices back to class names\n",
        "        predicted_class_name = train_dataset.classes[predicted_class.item()]\n",
        "\n",
        "    return predicted_class_name\n",
        "\n",
        "# Example usage\n",
        "image_path = \"/content/drive/MyDrive/The-examples-of-the-open-hole-defect-and-the-casting-fin-defect-The-red-circles-are_Q320.jpg\"  # Provide the path to the image you want to predict\n",
        "predicted_class = predict_image(image_path, model)\n",
        "print(f\"Predicted class: {predicted_class}\")\n"
      ],
      "metadata": {
        "colab": {
          "base_uri": "https://localhost:8080/"
        },
        "id": "9vpQk8IPGTB1",
        "outputId": "d6cd5cbd-25cc-4738-c09f-7e5eb501292a"
      },
      "execution_count": null,
      "outputs": [
        {
          "output_type": "stream",
          "name": "stdout",
          "text": [
            "Predicted class: def_front\n"
          ]
        }
      ]
    }
  ]
}